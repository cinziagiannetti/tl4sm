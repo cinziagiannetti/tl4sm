{
 "cells": [
  {
   "cell_type": "markdown",
   "metadata": {},
   "source": [
    "# Transfer Learning for smart Manufacturing (tl4sm)\n",
    "\n",
    "## Import required libraries\n",
    "The following packages are required and should have been installed with `tl4sm` package installation. Run the below code to import the required dependencies."
   ]
  },
  {
   "cell_type": "code",
   "execution_count": 9,
   "metadata": {},
   "outputs": [],
   "source": [
    "from tl4sm import perform_experiment as pf\n",
    "from pandas import read_csv\n",
    "import os"
   ]
  },
  {
   "cell_type": "markdown",
   "metadata": {},
   "source": [
    "The purpose of transfer learning is to 'transfer' some or all knowledge from a source domain to a target (related/unrelated but similar) domain. As stated, the dataset being used is the six cities Beijing air quality data, which can be found [here](https://archive.ics.uci.edu/ml/datasets/Beijing+Multi-Site+Air-Quality+Data). Download this and save it to the `../Data/` folder. \n",
    "\n",
    "For the purpose of this tutorial, we have simply filled the `nan` values with the previous value. This is NOT the right way to handle missing data in timeseries, nonetheless.\n",
    "\n",
    "Next, we load the experimental setup file, which you should have saved inside the `../Results` folder and specify to use the last `10,000` rows for model validation. \n",
    "\n",
    "Finally, we simply call the `perform_experiment` function from within the `tl4sm` package to perform the transfer learning experiments. "
   ]
  },
  {
   "cell_type": "code",
   "execution_count": 10,
   "metadata": {},
   "outputs": [],
   "source": [
    "file_name = '../Data/'\n",
    "files = [f for f in os.listdir('../Data/')]\n",
    "model_ = '../Models/model_'\n",
    "resFile='../Results/grid_search_baseline.csv'\n",
    "baseline = read_csv(resFile, index_col=0, header=0)\n",
    "n_test = 10000\n",
    "n_out=10\n",
    "verbose=2\n",
    "pf.perform_experiment(resFile, file_name, n_test, model_, n_out, verbose, med=40, high=100)"
   ]
  },
  {
   "cell_type": "markdown",
   "metadata": {},
   "source": [
    "Once complete, the results will be appended in the experimental setup file (`grid_search_baseline.csv`). "
   ]
  }
 ],
 "metadata": {
  "kernelspec": {
   "display_name": "Python 3",
   "language": "python",
   "name": "python3"
  },
  "language_info": {
   "codemirror_mode": {
    "name": "ipython",
    "version": 3
   },
   "file_extension": ".py",
   "mimetype": "text/x-python",
   "name": "python",
   "nbconvert_exporter": "python",
   "pygments_lexer": "ipython3",
   "version": "3.7.7"
  }
 },
 "nbformat": 4,
 "nbformat_minor": 4
}
